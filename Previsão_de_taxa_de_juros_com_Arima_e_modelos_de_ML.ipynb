{
  "nbformat": 4,
  "nbformat_minor": 0,
  "metadata": {
    "colab": {
      "name": "Previsão de taxa de juros com Arima e modelos de ML.ipynb",
      "provenance": [],
      "authorship_tag": "ABX9TyOA04eHpNBOar+tz+YAHN4c",
      "include_colab_link": true
    },
    "kernelspec": {
      "name": "python3",
      "display_name": "Python 3"
    },
    "language_info": {
      "name": "python"
    }
  },
  "cells": [
    {
      "cell_type": "markdown",
      "metadata": {
        "id": "view-in-github",
        "colab_type": "text"
      },
      "source": [
        "<a href=\"https://colab.research.google.com/github/leonbenenati/Projeto/blob/main/Previs%C3%A3o_de_taxa_de_juros_com_Arima_e_modelos_de_ML.ipynb\" target=\"_parent\"><img src=\"https://colab.research.google.com/assets/colab-badge.svg\" alt=\"Open In Colab\"/></a>"
      ]
    },
    {
      "cell_type": "markdown",
      "metadata": {
        "id": "Q7AVg5eqkjL_"
      },
      "source": [
        "O objetivo desse projeto é prever a taxa de juros de longo prazo, será utilizado a taxa de juros LTN de 12 meses com dados diários. Os dados estão diponiveis no ipeadata (http://www.ipeadata.gov.br/Default.aspx)\n",
        "\n",
        "Na primeira parte será utilizado o modelo Arima e na segunda parte os modelos de machine learning\n"
      ]
    },
    {
      "cell_type": "markdown",
      "metadata": {
        "id": "WzJG1Bz3ZJRW"
      },
      "source": [
        "# Importação de dados e ajustes iniciais "
      ]
    },
    {
      "cell_type": "code",
      "metadata": {
        "id": "UvxosFHnRcLl"
      },
      "source": [
        "#Importando pacotes \n",
        "import pandas as pd\n",
        "import numpy as np\n"
      ],
      "execution_count": 453,
      "outputs": []
    },
    {
      "cell_type": "code",
      "metadata": {
        "id": "992dnTWwR-WG"
      },
      "source": [
        "#carregando os dados\n",
        "df = pd.read_csv('/content/ipeadata[02-10-2021-01-51].csv',sep=\";\",index_col=\"Data\")"
      ],
      "execution_count": 454,
      "outputs": []
    },
    {
      "cell_type": "code",
      "metadata": {
        "colab": {
          "base_uri": "https://localhost:8080/",
          "height": 250
        },
        "id": "aN5jQUNXVt7t",
        "outputId": "47e93f89-6ae5-4be8-c466-b0973a4e6c87"
      },
      "source": [
        "#verificando os dados\n",
        "df.head()"
      ],
      "execution_count": 455,
      "outputs": [
        {
          "output_type": "execute_result",
          "data": {
            "text/html": [
              "<div>\n",
              "<style scoped>\n",
              "    .dataframe tbody tr th:only-of-type {\n",
              "        vertical-align: middle;\n",
              "    }\n",
              "\n",
              "    .dataframe tbody tr th {\n",
              "        vertical-align: top;\n",
              "    }\n",
              "\n",
              "    .dataframe thead th {\n",
              "        text-align: right;\n",
              "    }\n",
              "</style>\n",
              "<table border=\"1\" class=\"dataframe\">\n",
              "  <thead>\n",
              "    <tr style=\"text-align: right;\">\n",
              "      <th></th>\n",
              "      <th>Taxa de juros prefixada - estrutura a termo - LTN - 12 meses - (% a.a.) - Associação Brasileira das Entidades dos Mercados Financeiro e de Capitais (Anbima) - ANBIMA366_TJTLN12366</th>\n",
              "    </tr>\n",
              "    <tr>\n",
              "      <th>Data</th>\n",
              "      <th></th>\n",
              "    </tr>\n",
              "  </thead>\n",
              "  <tbody>\n",
              "    <tr>\n",
              "      <th>01/01/2017</th>\n",
              "      <td>11,5018</td>\n",
              "    </tr>\n",
              "    <tr>\n",
              "      <th>02/01/2017</th>\n",
              "      <td>11,5016</td>\n",
              "    </tr>\n",
              "    <tr>\n",
              "      <th>03/01/2017</th>\n",
              "      <td>11,3985</td>\n",
              "    </tr>\n",
              "    <tr>\n",
              "      <th>04/01/2017</th>\n",
              "      <td>11,424</td>\n",
              "    </tr>\n",
              "    <tr>\n",
              "      <th>05/01/2017</th>\n",
              "      <td>11,4087</td>\n",
              "    </tr>\n",
              "  </tbody>\n",
              "</table>\n",
              "</div>"
            ],
            "text/plain": [
              "           Taxa de juros prefixada - estrutura a termo - LTN - 12 meses - (% a.a.) - Associação Brasileira das Entidades dos Mercados Financeiro e de Capitais (Anbima) - ANBIMA366_TJTLN12366\n",
              "Data                                                                                                                                                                                          \n",
              "01/01/2017                                            11,5018                                                                                                                                 \n",
              "02/01/2017                                            11,5016                                                                                                                                 \n",
              "03/01/2017                                            11,3985                                                                                                                                 \n",
              "04/01/2017                                             11,424                                                                                                                                 \n",
              "05/01/2017                                            11,4087                                                                                                                                 "
            ]
          },
          "metadata": {},
          "execution_count": 455
        }
      ]
    },
    {
      "cell_type": "code",
      "metadata": {
        "id": "U1w6dLvJ8310"
      },
      "source": [
        "#Renomeando a coluna com os dados\n",
        "df=df.rename(columns={\"Taxa de juros prefixada - estrutura a termo - LTN - 12 meses - (% a.a.) - Associação Brasileira das Entidades dos Mercados Financeiro e de Capitais (Anbima) - ANBIMA366_TJTLN12366\": \"taxa\"})"
      ],
      "execution_count": 456,
      "outputs": []
    },
    {
      "cell_type": "code",
      "metadata": {
        "id": "D2llo69h9JjN"
      },
      "source": [
        "# Não há dados nos finais de semana então as linhas com dados faltantes será dropada\n",
        "df.dropna(inplace=True)"
      ],
      "execution_count": 457,
      "outputs": []
    },
    {
      "cell_type": "code",
      "metadata": {
        "colab": {
          "base_uri": "https://localhost:8080/"
        },
        "id": "NrNbrUhj9Psu",
        "outputId": "35ad2bd1-f0e9-49a7-f66f-38300342bf53"
      },
      "source": [
        "#verificando se há dados faltantes \n",
        "df.isnull().sum()"
      ],
      "execution_count": 458,
      "outputs": [
        {
          "output_type": "execute_result",
          "data": {
            "text/plain": [
              "taxa    0\n",
              "dtype: int64"
            ]
          },
          "metadata": {},
          "execution_count": 458
        }
      ]
    },
    {
      "cell_type": "code",
      "metadata": {
        "colab": {
          "base_uri": "https://localhost:8080/",
          "height": 388
        },
        "id": "t4BxYFQZ-FuV",
        "outputId": "2204d3ed-9c80-46b0-b896-2343a2b4fcf3"
      },
      "source": [
        "#Verificando os dados finais\n",
        "df.tail(n=10)"
      ],
      "execution_count": 460,
      "outputs": [
        {
          "output_type": "execute_result",
          "data": {
            "text/html": [
              "<div>\n",
              "<style scoped>\n",
              "    .dataframe tbody tr th:only-of-type {\n",
              "        vertical-align: middle;\n",
              "    }\n",
              "\n",
              "    .dataframe tbody tr th {\n",
              "        vertical-align: top;\n",
              "    }\n",
              "\n",
              "    .dataframe thead th {\n",
              "        text-align: right;\n",
              "    }\n",
              "</style>\n",
              "<table border=\"1\" class=\"dataframe\">\n",
              "  <thead>\n",
              "    <tr style=\"text-align: right;\">\n",
              "      <th></th>\n",
              "      <th>taxa</th>\n",
              "    </tr>\n",
              "    <tr>\n",
              "      <th>Data</th>\n",
              "      <th></th>\n",
              "    </tr>\n",
              "  </thead>\n",
              "  <tbody>\n",
              "    <tr>\n",
              "      <th>17/09/2021</th>\n",
              "      <td>8,8144</td>\n",
              "    </tr>\n",
              "    <tr>\n",
              "      <th>20/09/2021</th>\n",
              "      <td>8,7884</td>\n",
              "    </tr>\n",
              "    <tr>\n",
              "      <th>21/09/2021</th>\n",
              "      <td>8,6738</td>\n",
              "    </tr>\n",
              "    <tr>\n",
              "      <th>22/09/2021</th>\n",
              "      <td>8,6574</td>\n",
              "    </tr>\n",
              "    <tr>\n",
              "      <th>23/09/2021</th>\n",
              "      <td>8,7311</td>\n",
              "    </tr>\n",
              "    <tr>\n",
              "      <th>24/09/2021</th>\n",
              "      <td>8,7812</td>\n",
              "    </tr>\n",
              "    <tr>\n",
              "      <th>27/09/2021</th>\n",
              "      <td>8,8486</td>\n",
              "    </tr>\n",
              "    <tr>\n",
              "      <th>28/09/2021</th>\n",
              "      <td>8,9518</td>\n",
              "    </tr>\n",
              "    <tr>\n",
              "      <th>29/09/2021</th>\n",
              "      <td>8,9135</td>\n",
              "    </tr>\n",
              "    <tr>\n",
              "      <th>30/09/2021</th>\n",
              "      <td>8,9648</td>\n",
              "    </tr>\n",
              "  </tbody>\n",
              "</table>\n",
              "</div>"
            ],
            "text/plain": [
              "              taxa\n",
              "Data              \n",
              "17/09/2021  8,8144\n",
              "20/09/2021  8,7884\n",
              "21/09/2021  8,6738\n",
              "22/09/2021  8,6574\n",
              "23/09/2021  8,7311\n",
              "24/09/2021  8,7812\n",
              "27/09/2021  8,8486\n",
              "28/09/2021  8,9518\n",
              "29/09/2021  8,9135\n",
              "30/09/2021  8,9648"
            ]
          },
          "metadata": {},
          "execution_count": 460
        }
      ]
    },
    {
      "cell_type": "code",
      "metadata": {
        "colab": {
          "base_uri": "https://localhost:8080/"
        },
        "id": "DELkpoCYaXwS",
        "outputId": "b1baaaa4-d92d-43cf-ad19-2bf445aba75a"
      },
      "source": [
        "df.dtypes"
      ],
      "execution_count": 461,
      "outputs": [
        {
          "output_type": "execute_result",
          "data": {
            "text/plain": [
              "taxa    object\n",
              "dtype: object"
            ]
          },
          "metadata": {},
          "execution_count": 461
        }
      ]
    },
    {
      "cell_type": "code",
      "metadata": {
        "id": "X8cEhISvYc7x"
      },
      "source": [
        "#Mudando os dados para Float\n",
        "columns = [\"taxa\"] \n",
        "\n",
        "df[columns] = df[columns].apply(lambda x: x.str.replace(',', '.').astype('float'))"
      ],
      "execution_count": 462,
      "outputs": []
    },
    {
      "cell_type": "code",
      "metadata": {
        "colab": {
          "base_uri": "https://localhost:8080/"
        },
        "id": "RgV-6jPJYIP4",
        "outputId": "b282de9d-5f86-45a8-9aaa-f7e07028d6b8"
      },
      "source": [
        "df.dtypes"
      ],
      "execution_count": 463,
      "outputs": [
        {
          "output_type": "execute_result",
          "data": {
            "text/plain": [
              "taxa    float64\n",
              "dtype: object"
            ]
          },
          "metadata": {},
          "execution_count": 463
        }
      ]
    },
    {
      "cell_type": "code",
      "metadata": {
        "colab": {
          "base_uri": "https://localhost:8080/"
        },
        "id": "yShuFqCqCQcH",
        "outputId": "cd5f995f-54e3-41c8-9c6c-2974953e3c46"
      },
      "source": [
        "print(df)"
      ],
      "execution_count": 464,
      "outputs": [
        {
          "output_type": "stream",
          "name": "stdout",
          "text": [
            "               taxa\n",
            "Data               \n",
            "01/01/2017  11.5018\n",
            "02/01/2017  11.5016\n",
            "03/01/2017  11.3985\n",
            "04/01/2017  11.4240\n",
            "05/01/2017  11.4087\n",
            "...             ...\n",
            "24/09/2021   8.7812\n",
            "27/09/2021   8.8486\n",
            "28/09/2021   8.9518\n",
            "29/09/2021   8.9135\n",
            "30/09/2021   8.9648\n",
            "\n",
            "[1367 rows x 1 columns]\n"
          ]
        }
      ]
    },
    {
      "cell_type": "markdown",
      "metadata": {
        "id": "MOLq0JxRZRn2"
      },
      "source": [
        "# Análise exploratória "
      ]
    },
    {
      "cell_type": "code",
      "metadata": {
        "colab": {
          "base_uri": "https://localhost:8080/",
          "height": 362
        },
        "id": "V8EAAKfMgvCa",
        "outputId": "ba837c86-0ece-491d-9304-efda62a165c5"
      },
      "source": [
        "#Plotando o gráfico dos dados \n",
        "import matplotlib.pyplot as plt\n",
        "plt.style.use('fivethirtyeight')\n",
        "ax = df.plot(figsize=(15, 5))\n",
        "plt.show()"
      ],
      "execution_count": 465,
      "outputs": [
        {
          "output_type": "display_data",
          "data": {
            "image/png": "[encoded data removed]",
            "text/plain": [
              "<Figure size 1080x360 with 1 Axes>"
            ]
          },
          "metadata": {}
        }
      ]
    },
    {
      "cell_type": "code",
      "metadata": {
        "id": "lmIqf-bdTV9N"
      },
      "source": [
        "from statsmodels.tsa.stattools import adfuller\n"
      ],
      "execution_count": 466,
      "outputs": []
    },
    {
      "cell_type": "code",
      "metadata": {
        "colab": {
          "base_uri": "https://localhost:8080/"
        },
        "id": "ALoTc5XXTZGd",
        "outputId": "c8954a78-3e16-49d7-e5f5-ad71fe875951"
      },
      "source": [
        "#O Teste de Dickey-Fuller aumentado é  necessário para verificar se a serie é estacionária, é necessário a estacionariedade para a previsão correta \n",
        "teste = adfuller(df['taxa'])\n",
        "print(teste)\n",
        "\n",
        "\n"
      ],
      "execution_count": 467,
      "outputs": [
        {
          "output_type": "stream",
          "name": "stdout",
          "text": [
            "(-1.646124995327863, 0.45906212983852973, 18, 1348, {'1%': -3.435210382964628, '5%': -2.8636864858936333, '10%': -2.5679127921571907}, -2590.1115617972036)\n"
          ]
        }
      ]
    },
    {
      "cell_type": "code",
      "metadata": {
        "colab": {
          "base_uri": "https://localhost:8080/"
        },
        "id": "4bRYH9IJAuS2",
        "outputId": "8d714268-3d81-4947-e966-b76b71c6cc91"
      },
      "source": [
        "#O P valor é muito alto a série não é estacionária pelo teste. Pelo gráfico já dava para notar a não estacionáriedade da série.\n",
        "print(f' teste ADF:{teste[0]}')\n",
        "print(f' p-valor:{teste[1]}')"
      ],
      "execution_count": 468,
      "outputs": [
        {
          "output_type": "stream",
          "name": "stdout",
          "text": [
            " teste ADF:-1.646124995327863\n",
            " p-valor:0.45906212983852973\n"
          ]
        }
      ]
    },
    {
      "cell_type": "code",
      "metadata": {
        "id": "ULEnUgUKSGNN"
      },
      "source": [
        "#Tirando a primeira diferença para deixar a série estacionária \n",
        "df_stationary = df.diff().dropna()"
      ],
      "execution_count": 469,
      "outputs": []
    },
    {
      "cell_type": "code",
      "metadata": {
        "colab": {
          "base_uri": "https://localhost:8080/"
        },
        "id": "9SdfiksUSu0A",
        "outputId": "4778ec52-8104-40f7-bbf3-920a8bf199ee"
      },
      "source": [
        "#Refazendo o Teste de Dickey-Fuller. A série está estacionária  \n",
        "teste2 = adfuller(df_stationary['taxa'])\n",
        "print(f' teste ADF:{teste2[0]}')\n",
        "print(f' p-valor:{teste2[1]}')\n"
      ],
      "execution_count": 470,
      "outputs": [
        {
          "output_type": "stream",
          "name": "stdout",
          "text": [
            " teste ADF:-5.86355492999542\n",
            " p-valor:3.3663714392616746e-07\n"
          ]
        }
      ]
    },
    {
      "cell_type": "code",
      "metadata": {
        "colab": {
          "base_uri": "https://localhost:8080/",
          "height": 365
        },
        "id": "lfRPSLiYLJqm",
        "outputId": "5cd822f7-7027-4f37-8cd0-b86d563a365b"
      },
      "source": [
        "#Pelo Gráfico observamos que realmente a série esta estacionária \n",
        "ax = df_stationary.plot(figsize=(15, 5))\n",
        "plt.show()"
      ],
      "execution_count": 471,
      "outputs": [
        {
          "output_type": "display_data",
          "data": {
            "image/png": "[encoded data removed]",
            "text/plain": [
              "<Figure size 1080x360 with 1 Axes>"
            ]
          },
          "metadata": {}
        }
      ]
    },
    {
      "cell_type": "code",
      "metadata": {
        "id": "JuiHX2tsV04U"
      },
      "source": [
        "#Importando os modelos para verificar os componentes MA e AR \n",
        "from statsmodels.graphics.tsaplots import plot_acf, plot_pacf"
      ],
      "execution_count": 479,
      "outputs": []
    },
    {
      "cell_type": "code",
      "metadata": {
        "colab": {
          "base_uri": "https://localhost:8080/",
          "height": 473
        },
        "id": "U0Mi7amVYQ0M",
        "outputId": "08c31ea0-0b0e-4ed3-ccd6-4dbc6276fa4f"
      },
      "source": [
        "#Verificando os componentes MA e AR, tanto a auto correlação e a autocorrelação parcial demoram 2 processos.\n",
        "fig, (ax1, ax2) = plt.subplots(2,1, figsize=(6,6))\n",
        "\n",
        "plot_acf(df_stationary['taxa'], lags=5, zero=False, ax=ax1)\n",
        "\n",
        "plot_pacf(df_stationary['taxa'], lags=5, zero=False, ax=ax2)\n",
        "\n",
        "plt.show()"
      ],
      "execution_count": 481,
      "outputs": [
        {
          "output_type": "stream",
          "name": "stderr",
          "text": [
            "/usr/local/lib/python3.7/dist-packages/statsmodels/graphics/tsaplots.py:353: FutureWarning: The default method 'yw' can produce PACF values outside of the [-1,1] interval. After 0.13, the default will change tounadjusted Yule-Walker ('ywm'). You can use this method now by setting method='ywm'.\n",
            "  FutureWarning,\n"
          ]
        },
        {
          "output_type": "display_data",
          "data": {
            "image/png": "[encoded data removed]",
            "text/plain": [
              "<Figure size 432x432 with 2 Axes>"
            ]
          },
          "metadata": {}
        }
      ]
    },
    {
      "cell_type": "markdown",
      "metadata": {
        "id": "V1NsePy0pzcv"
      },
      "source": [
        " o modelo ARIMA precisa das variaveis P,D Q\n",
        "\n",
        " o D é quando a série é estacionária que no caso é 1\n",
        "\n",
        " o P e Q são calculados com o teste de raiz unitária que foi feito anteriomente\n",
        "\n",
        " Então temos um ARIMA(2,1,2)\n",
        "\n",
        " A seguir será utilizado o pacote auto_arima para calcular os melhores componentes do SARIMAX automaticamente, que utiliza PDQ"
      ]
    },
    {
      "cell_type": "markdown",
      "metadata": {
        "id": "OxHAkBdTTQ66"
      },
      "source": [
        "# Ajustando modelo SARIMAX"
      ]
    },
    {
      "cell_type": "code",
      "metadata": {
        "id": "gwJC5Nxn_Wus"
      },
      "source": [
        "import statsmodels as sm"
      ],
      "execution_count": 410,
      "outputs": []
    },
    {
      "cell_type": "code",
      "metadata": {
        "id": "HRQ5kOiS_Q6O"
      },
      "source": [
        "from statsmodels import api as sm"
      ],
      "execution_count": 411,
      "outputs": []
    },
    {
      "cell_type": "code",
      "metadata": {
        "colab": {
          "base_uri": "https://localhost:8080/"
        },
        "id": "Uexatiru8QbT",
        "outputId": "35208665-7ca5-47da-cec2-db20d3dd52f1"
      },
      "source": [
        "!pip install pmdarima\n"
      ],
      "execution_count": 412,
      "outputs": [
        {
          "output_type": "stream",
          "name": "stdout",
          "text": [
            "Requirement already satisfied: pmdarima in /usr/local/lib/python3.7/dist-packages (1.8.3)\n",
            "Requirement already satisfied: scipy>=1.3.2 in /usr/local/lib/python3.7/dist-packages (from pmdarima) (1.4.1)\n",
            "Requirement already satisfied: setuptools!=50.0.0,>=38.6.0 in /usr/local/lib/python3.7/dist-packages (from pmdarima) (57.4.0)\n",
            "Requirement already satisfied: scikit-learn>=0.22 in /usr/local/lib/python3.7/dist-packages (from pmdarima) (0.22.2.post1)\n",
            "Requirement already satisfied: pandas>=0.19 in /usr/local/lib/python3.7/dist-packages (from pmdarima) (1.1.5)\n",
            "Requirement already satisfied: urllib3 in /usr/local/lib/python3.7/dist-packages (from pmdarima) (1.24.3)\n",
            "Requirement already satisfied: Cython!=0.29.18,>=0.29 in /usr/local/lib/python3.7/dist-packages (from pmdarima) (0.29.24)\n",
            "Requirement already satisfied: joblib>=0.11 in /usr/local/lib/python3.7/dist-packages (from pmdarima) (1.0.1)\n",
            "Requirement already satisfied: statsmodels!=0.12.0,>=0.11 in /usr/local/lib/python3.7/dist-packages (from pmdarima) (0.13.0)\n",
            "Requirement already satisfied: numpy>=1.19.3 in /usr/local/lib/python3.7/dist-packages (from pmdarima) (1.19.5)\n",
            "Requirement already satisfied: pytz>=2017.2 in /usr/local/lib/python3.7/dist-packages (from pandas>=0.19->pmdarima) (2018.9)\n",
            "Requirement already satisfied: python-dateutil>=2.7.3 in /usr/local/lib/python3.7/dist-packages (from pandas>=0.19->pmdarima) (2.8.2)\n",
            "Requirement already satisfied: six>=1.5 in /usr/local/lib/python3.7/dist-packages (from python-dateutil>=2.7.3->pandas>=0.19->pmdarima) (1.15.0)\n",
            "Requirement already satisfied: patsy>=0.5.2 in /usr/local/lib/python3.7/dist-packages (from statsmodels!=0.12.0,>=0.11->pmdarima) (0.5.2)\n"
          ]
        }
      ]
    },
    {
      "cell_type": "code",
      "metadata": {
        "id": "6VxyePwkN8Nu"
      },
      "source": [
        "#Funcção para calcular o auto arima\n",
        "import pmdarima as pm\n",
        "\n",
        "def arimamodel(timeseriesarray):\n",
        "    autoarima_model = pm.auto_arima(timeseriesarray, \n",
        "                              start_p=1, \n",
        "                              start_q=1,\n",
        "                              max_p=2, \n",
        "                              max_q=2,\n",
        "                              d=1,\n",
        "                              D=1,\n",
        "                              trace=True)\n",
        "    return autoarima_model\n"
      ],
      "execution_count": 413,
      "outputs": []
    },
    {
      "cell_type": "code",
      "metadata": {
        "colab": {
          "base_uri": "https://localhost:8080/",
          "height": 755
        },
        "id": "kVypGMVLO7c0",
        "outputId": "5defd0f0-bc3d-45a1-9f5d-008466007e2c"
      },
      "source": [
        "arima= arimamodel(df)\n",
        "arima.summary()"
      ],
      "execution_count": 414,
      "outputs": [
        {
          "output_type": "stream",
          "name": "stdout",
          "text": [
            "Performing stepwise search to minimize aic\n",
            " ARIMA(1,1,1)(0,0,0)[0] intercept   : AIC=-2602.365, Time=1.60 sec\n",
            " ARIMA(0,1,0)(0,0,0)[0] intercept   : AIC=-2593.296, Time=0.18 sec\n",
            " ARIMA(1,1,0)(0,0,0)[0] intercept   : AIC=-2599.405, Time=0.22 sec\n",
            " ARIMA(0,1,1)(0,0,0)[0] intercept   : AIC=-2600.062, Time=0.35 sec\n",
            " ARIMA(0,1,0)(0,0,0)[0]             : AIC=-2594.757, Time=0.10 sec\n",
            " ARIMA(2,1,1)(0,0,0)[0] intercept   : AIC=-2600.870, Time=1.70 sec\n",
            " ARIMA(1,1,2)(0,0,0)[0] intercept   : AIC=-2600.707, Time=1.39 sec\n",
            " ARIMA(0,1,2)(0,0,0)[0] intercept   : AIC=-2600.363, Time=0.64 sec\n",
            " ARIMA(2,1,0)(0,0,0)[0] intercept   : AIC=-2598.749, Time=0.20 sec\n",
            " ARIMA(2,1,2)(0,0,0)[0] intercept   : AIC=-2605.165, Time=2.08 sec\n",
            " ARIMA(2,1,2)(0,0,0)[0]             : AIC=-2606.453, Time=1.03 sec\n",
            " ARIMA(1,1,2)(0,0,0)[0]             : AIC=-2601.941, Time=0.43 sec\n",
            " ARIMA(2,1,1)(0,0,0)[0]             : AIC=-2602.101, Time=0.52 sec\n",
            " ARIMA(1,1,1)(0,0,0)[0]             : AIC=-2603.607, Time=0.41 sec\n",
            "\n",
            "Best model:  ARIMA(2,1,2)(0,0,0)[0]          \n",
            "Total fit time: 10.866 seconds\n"
          ]
        },
        {
          "output_type": "execute_result",
          "data": {
            "text/html": [
              "<table class=\"simpletable\">\n",
              "<caption>SARIMAX Results</caption>\n",
              "<tr>\n",
              "  <th>Dep. Variable:</th>           <td>y</td>        <th>  No. Observations:  </th>   <td>1367</td>   \n",
              "</tr>\n",
              "<tr>\n",
              "  <th>Model:</th>           <td>SARIMAX(2, 1, 2)</td> <th>  Log Likelihood     </th> <td>1308.227</td> \n",
              "</tr>\n",
              "<tr>\n",
              "  <th>Date:</th>            <td>Tue, 05 Oct 2021</td> <th>  AIC                </th> <td>-2606.453</td>\n",
              "</tr>\n",
              "<tr>\n",
              "  <th>Time:</th>                <td>22:12:42</td>     <th>  BIC                </th> <td>-2580.355</td>\n",
              "</tr>\n",
              "<tr>\n",
              "  <th>Sample:</th>                  <td>0</td>        <th>  HQIC               </th> <td>-2596.685</td>\n",
              "</tr>\n",
              "<tr>\n",
              "  <th></th>                      <td> - 1367</td>     <th>                     </th>     <td> </td>    \n",
              "</tr>\n",
              "<tr>\n",
              "  <th>Covariance Type:</th>        <td>opg</td>       <th>                     </th>     <td> </td>    \n",
              "</tr>\n",
              "</table>\n",
              "<table class=\"simpletable\">\n",
              "<tr>\n",
              "     <td></td>       <th>coef</th>     <th>std err</th>      <th>z</th>      <th>P>|z|</th>  <th>[0.025</th>    <th>0.975]</th>  \n",
              "</tr>\n",
              "<tr>\n",
              "  <th>ar.L1</th>  <td>   -0.4886</td> <td>    0.150</td> <td>   -3.262</td> <td> 0.001</td> <td>   -0.782</td> <td>   -0.195</td>\n",
              "</tr>\n",
              "<tr>\n",
              "  <th>ar.L2</th>  <td>    0.4536</td> <td>    0.131</td> <td>    3.474</td> <td> 0.001</td> <td>    0.198</td> <td>    0.709</td>\n",
              "</tr>\n",
              "<tr>\n",
              "  <th>ma.L1</th>  <td>    0.3950</td> <td>    0.149</td> <td>    2.659</td> <td> 0.008</td> <td>    0.104</td> <td>    0.686</td>\n",
              "</tr>\n",
              "<tr>\n",
              "  <th>ma.L2</th>  <td>   -0.5131</td> <td>    0.124</td> <td>   -4.154</td> <td> 0.000</td> <td>   -0.755</td> <td>   -0.271</td>\n",
              "</tr>\n",
              "<tr>\n",
              "  <th>sigma2</th> <td>    0.0086</td> <td> 6.71e-05</td> <td>  128.116</td> <td> 0.000</td> <td>    0.008</td> <td>    0.009</td>\n",
              "</tr>\n",
              "</table>\n",
              "<table class=\"simpletable\">\n",
              "<tr>\n",
              "  <th>Ljung-Box (L1) (Q):</th>     <td>0.38</td> <th>  Jarque-Bera (JB):  </th> <td>172056.87</td>\n",
              "</tr>\n",
              "<tr>\n",
              "  <th>Prob(Q):</th>                <td>0.54</td> <th>  Prob(JB):          </th>   <td>0.00</td>   \n",
              "</tr>\n",
              "<tr>\n",
              "  <th>Heteroskedasticity (H):</th> <td>1.62</td> <th>  Skew:              </th>   <td>3.77</td>   \n",
              "</tr>\n",
              "<tr>\n",
              "  <th>Prob(H) (two-sided):</th>    <td>0.00</td> <th>  Kurtosis:          </th>   <td>57.46</td>  \n",
              "</tr>\n",
              "</table><br/><br/>Warnings:<br/>[1] Covariance matrix calculated using the outer product of gradients (complex-step)."
            ],
            "text/plain": [
              "<class 'statsmodels.iolib.summary.Summary'>\n",
              "\"\"\"\n",
              "                               SARIMAX Results                                \n",
              "==============================================================================\n",
              "Dep. Variable:                      y   No. Observations:                 1367\n",
              "Model:               SARIMAX(2, 1, 2)   Log Likelihood                1308.227\n",
              "Date:                Tue, 05 Oct 2021   AIC                          -2606.453\n",
              "Time:                        22:12:42   BIC                          -2580.355\n",
              "Sample:                             0   HQIC                         -2596.685\n",
              "                               - 1367                                         \n",
              "Covariance Type:                  opg                                         \n",
              "==============================================================================\n",
              "                 coef    std err          z      P>|z|      [0.025      0.975]\n",
              "------------------------------------------------------------------------------\n",
              "ar.L1         -0.4886      0.150     -3.262      0.001      -0.782      -0.195\n",
              "ar.L2          0.4536      0.131      3.474      0.001       0.198       0.709\n",
              "ma.L1          0.3950      0.149      2.659      0.008       0.104       0.686\n",
              "ma.L2         -0.5131      0.124     -4.154      0.000      -0.755      -0.271\n",
              "sigma2         0.0086   6.71e-05    128.116      0.000       0.008       0.009\n",
              "===================================================================================\n",
              "Ljung-Box (L1) (Q):                   0.38   Jarque-Bera (JB):            172056.87\n",
              "Prob(Q):                              0.54   Prob(JB):                         0.00\n",
              "Heteroskedasticity (H):               1.62   Skew:                             3.77\n",
              "Prob(H) (two-sided):                  0.00   Kurtosis:                        57.46\n",
              "===================================================================================\n",
              "\n",
              "Warnings:\n",
              "[1] Covariance matrix calculated using the outer product of gradients (complex-step).\n",
              "\"\"\""
            ]
          },
          "metadata": {},
          "execution_count": 414
        }
      ]
    },
    {
      "cell_type": "markdown",
      "metadata": {
        "id": "EiJPUTnJsbg1"
      },
      "source": [
        "O autorima chegou no ARIMA(2,1,2)(0,0,0)[0], o Arima(2,1,2) foi o mesmo quando feito os testes \n",
        "\n",
        "Agora será ajustado o modelo"
      ]
    },
    {
      "cell_type": "code",
      "metadata": {
        "id": "HXfSqJ91snB1"
      },
      "source": [
        "from statsmodels.tsa.statespace.sarimax import SARIMAX"
      ],
      "execution_count": 415,
      "outputs": []
    },
    {
      "cell_type": "code",
      "metadata": {
        "id": "HMDfK7Z_2qYk",
        "colab": {
          "base_uri": "https://localhost:8080/"
        },
        "outputId": "d87da9f4-8d61-41a0-b7ed-535082752baf"
      },
      "source": [
        "modelo = SARIMAX(df,order=(2,1,2), seasonal_order=(0,0,0,0))\n",
        "modelo_sarima = modelo.fit()"
      ],
      "execution_count": 416,
      "outputs": [
        {
          "output_type": "stream",
          "name": "stderr",
          "text": [
            "/usr/local/lib/python3.7/dist-packages/statsmodels/tsa/base/tsa_model.py:595: ValueWarning: A date index has been provided, but it has no associated frequency information and so will be ignored when e.g. forecasting.\n",
            "  ' ignored when e.g. forecasting.', ValueWarning)\n",
            "/usr/local/lib/python3.7/dist-packages/statsmodels/tsa/base/tsa_model.py:599: ValueWarning: A date index has been provided, but it is not monotonic and so will be ignored when e.g. forecasting.\n",
            "  ' forecasting.', ValueWarning)\n",
            "/usr/local/lib/python3.7/dist-packages/statsmodels/tsa/base/tsa_model.py:595: ValueWarning: A date index has been provided, but it has no associated frequency information and so will be ignored when e.g. forecasting.\n",
            "  ' ignored when e.g. forecasting.', ValueWarning)\n",
            "/usr/local/lib/python3.7/dist-packages/statsmodels/tsa/base/tsa_model.py:599: ValueWarning: A date index has been provided, but it is not monotonic and so will be ignored when e.g. forecasting.\n",
            "  ' forecasting.', ValueWarning)\n",
            "/usr/local/lib/python3.7/dist-packages/statsmodels/base/model.py:606: ConvergenceWarning: Maximum Likelihood optimization failed to converge. Check mle_retvals\n",
            "  ConvergenceWarning)\n"
          ]
        }
      ]
    },
    {
      "cell_type": "code",
      "metadata": {
        "colab": {
          "base_uri": "https://localhost:8080/",
          "height": 453
        },
        "id": "1aii0TfxILN9",
        "outputId": "06da824c-42a9-409e-df02-7e69ff8ba9e9"
      },
      "source": [
        "modelo_sarima.summary()"
      ],
      "execution_count": 417,
      "outputs": [
        {
          "output_type": "execute_result",
          "data": {
            "text/html": [
              "<table class=\"simpletable\">\n",
              "<caption>SARIMAX Results</caption>\n",
              "<tr>\n",
              "  <th>Dep. Variable:</th>         <td>taxa</td>       <th>  No. Observations:  </th>   <td>1367</td>   \n",
              "</tr>\n",
              "<tr>\n",
              "  <th>Model:</th>           <td>SARIMAX(2, 1, 2)</td> <th>  Log Likelihood     </th> <td>1308.227</td> \n",
              "</tr>\n",
              "<tr>\n",
              "  <th>Date:</th>            <td>Tue, 05 Oct 2021</td> <th>  AIC                </th> <td>-2606.453</td>\n",
              "</tr>\n",
              "<tr>\n",
              "  <th>Time:</th>                <td>22:12:43</td>     <th>  BIC                </th> <td>-2580.355</td>\n",
              "</tr>\n",
              "<tr>\n",
              "  <th>Sample:</th>                  <td>0</td>        <th>  HQIC               </th> <td>-2596.685</td>\n",
              "</tr>\n",
              "<tr>\n",
              "  <th></th>                      <td> - 1367</td>     <th>                     </th>     <td> </td>    \n",
              "</tr>\n",
              "<tr>\n",
              "  <th>Covariance Type:</th>        <td>opg</td>       <th>                     </th>     <td> </td>    \n",
              "</tr>\n",
              "</table>\n",
              "<table class=\"simpletable\">\n",
              "<tr>\n",
              "     <td></td>       <th>coef</th>     <th>std err</th>      <th>z</th>      <th>P>|z|</th>  <th>[0.025</th>    <th>0.975]</th>  \n",
              "</tr>\n",
              "<tr>\n",
              "  <th>ar.L1</th>  <td>   -0.4886</td> <td>    0.150</td> <td>   -3.262</td> <td> 0.001</td> <td>   -0.782</td> <td>   -0.195</td>\n",
              "</tr>\n",
              "<tr>\n",
              "  <th>ar.L2</th>  <td>    0.4536</td> <td>    0.131</td> <td>    3.474</td> <td> 0.001</td> <td>    0.198</td> <td>    0.709</td>\n",
              "</tr>\n",
              "<tr>\n",
              "  <th>ma.L1</th>  <td>    0.3950</td> <td>    0.149</td> <td>    2.659</td> <td> 0.008</td> <td>    0.104</td> <td>    0.686</td>\n",
              "</tr>\n",
              "<tr>\n",
              "  <th>ma.L2</th>  <td>   -0.5131</td> <td>    0.124</td> <td>   -4.154</td> <td> 0.000</td> <td>   -0.755</td> <td>   -0.271</td>\n",
              "</tr>\n",
              "<tr>\n",
              "  <th>sigma2</th> <td>    0.0086</td> <td> 6.71e-05</td> <td>  128.116</td> <td> 0.000</td> <td>    0.008</td> <td>    0.009</td>\n",
              "</tr>\n",
              "</table>\n",
              "<table class=\"simpletable\">\n",
              "<tr>\n",
              "  <th>Ljung-Box (L1) (Q):</th>     <td>0.38</td> <th>  Jarque-Bera (JB):  </th> <td>172056.87</td>\n",
              "</tr>\n",
              "<tr>\n",
              "  <th>Prob(Q):</th>                <td>0.54</td> <th>  Prob(JB):          </th>   <td>0.00</td>   \n",
              "</tr>\n",
              "<tr>\n",
              "  <th>Heteroskedasticity (H):</th> <td>1.62</td> <th>  Skew:              </th>   <td>3.77</td>   \n",
              "</tr>\n",
              "<tr>\n",
              "  <th>Prob(H) (two-sided):</th>    <td>0.00</td> <th>  Kurtosis:          </th>   <td>57.46</td>  \n",
              "</tr>\n",
              "</table><br/><br/>Warnings:<br/>[1] Covariance matrix calculated using the outer product of gradients (complex-step)."
            ],
            "text/plain": [
              "<class 'statsmodels.iolib.summary.Summary'>\n",
              "\"\"\"\n",
              "                               SARIMAX Results                                \n",
              "==============================================================================\n",
              "Dep. Variable:                   taxa   No. Observations:                 1367\n",
              "Model:               SARIMAX(2, 1, 2)   Log Likelihood                1308.227\n",
              "Date:                Tue, 05 Oct 2021   AIC                          -2606.453\n",
              "Time:                        22:12:43   BIC                          -2580.355\n",
              "Sample:                             0   HQIC                         -2596.685\n",
              "                               - 1367                                         \n",
              "Covariance Type:                  opg                                         \n",
              "==============================================================================\n",
              "                 coef    std err          z      P>|z|      [0.025      0.975]\n",
              "------------------------------------------------------------------------------\n",
              "ar.L1         -0.4886      0.150     -3.262      0.001      -0.782      -0.195\n",
              "ar.L2          0.4536      0.131      3.474      0.001       0.198       0.709\n",
              "ma.L1          0.3950      0.149      2.659      0.008       0.104       0.686\n",
              "ma.L2         -0.5131      0.124     -4.154      0.000      -0.755      -0.271\n",
              "sigma2         0.0086   6.71e-05    128.116      0.000       0.008       0.009\n",
              "===================================================================================\n",
              "Ljung-Box (L1) (Q):                   0.38   Jarque-Bera (JB):            172056.87\n",
              "Prob(Q):                              0.54   Prob(JB):                         0.00\n",
              "Heteroskedasticity (H):               1.62   Skew:                             3.77\n",
              "Prob(H) (two-sided):                  0.00   Kurtosis:                        57.46\n",
              "===================================================================================\n",
              "\n",
              "Warnings:\n",
              "[1] Covariance matrix calculated using the outer product of gradients (complex-step).\n",
              "\"\"\""
            ]
          },
          "metadata": {},
          "execution_count": 417
        }
      ]
    },
    {
      "cell_type": "markdown",
      "metadata": {
        "id": "mCr6lHvgThE9"
      },
      "source": [
        "# Vericando erro do modelo escolhido SARIMAX"
      ]
    },
    {
      "cell_type": "code",
      "metadata": {
        "colab": {
          "base_uri": "https://localhost:8080/"
        },
        "id": "3eMVbM8vTo4W",
        "outputId": "394085b9-8da5-4c6f-b723-f007fe862669"
      },
      "source": [
        "#Realizando a previsão iniciando 90 dias antes\n",
        "pred = modelo_sarima.get_prediction(start=-90)\n",
        "pred_media = pred.predicted_mean\n",
        "pred_media.value_counts().sum()"
      ],
      "execution_count": 418,
      "outputs": [
        {
          "output_type": "execute_result",
          "data": {
            "text/plain": [
              "90"
            ]
          },
          "metadata": {},
          "execution_count": 418
        }
      ]
    },
    {
      "cell_type": "code",
      "metadata": {
        "colab": {
          "base_uri": "https://localhost:8080/"
        },
        "id": "S3f-9zrUU3MI",
        "outputId": "c49b38bf-3dfb-461d-e362-eb9635e95848"
      },
      "source": [
        "#Calculando o erro ao quadrado \n",
        "from sklearn.metrics import mean_squared_error\n",
        "from math import sqrt\n",
        "\n",
        "mse_sarima = sqrt(mean_squared_error(df[-90:].values,pred_media.values))\n",
        "print(mse_sarima)"
      ],
      "execution_count": 419,
      "outputs": [
        {
          "output_type": "stream",
          "name": "stdout",
          "text": [
            "0.10580104179989924\n"
          ]
        }
      ]
    },
    {
      "cell_type": "code",
      "metadata": {
        "colab": {
          "base_uri": "https://localhost:8080/"
        },
        "id": "2LMQX0k5Wn-W",
        "outputId": "d3dbd383-a33f-47e9-d83a-2ffeb19f4b3a"
      },
      "source": [
        "#Calculando o erro absoluto em porcentagem\n",
        "def mean_absolute_percentage_error(y_true, y_pred): \n",
        "    y_true, y_pred = np.array(y_true), np.array(y_pred)\n",
        "    return np.mean(np.abs((y_true - y_pred) / y_true)) * 100\n",
        "\n",
        "mape_sarima=mean_absolute_percentage_error(df[-90:].values,pred_media.values)\n",
        "print(mape_sarima)"
      ],
      "execution_count": 420,
      "outputs": [
        {
          "output_type": "stream",
          "name": "stdout",
          "text": [
            "14.741022660787012\n"
          ]
        }
      ]
    },
    {
      "cell_type": "markdown",
      "metadata": {
        "id": "CbuJDixYTYzu"
      },
      "source": [
        "# Rezaliando Previsão com o modelo SARIMAX"
      ]
    },
    {
      "cell_type": "code",
      "metadata": {
        "colab": {
          "base_uri": "https://localhost:8080/"
        },
        "id": "KuQze3jgIsBL",
        "outputId": "fd68e742-8540-4c03-bde2-eb5c0146fc1c"
      },
      "source": [
        "#Realizando a previsão para 30\n",
        "forecast = modelo_sarima.get_forecast(steps=30)\n",
        "forecast_media = forecast.predicted_mean\n",
        "forecast_media.values"
      ],
      "execution_count": 421,
      "outputs": [
        {
          "output_type": "stream",
          "name": "stderr",
          "text": [
            "/usr/local/lib/python3.7/dist-packages/statsmodels/tsa/base/tsa_model.py:393: ValueWarning: No supported index is available. Prediction results will be given with an integer index beginning at `start`.\n",
            "  ValueWarning)\n"
          ]
        },
        {
          "output_type": "execute_result",
          "data": {
            "text/plain": [
              "array([8.966193  , 8.95612702, 8.96167748, 8.95439954, 8.96047342,\n",
              "       8.95420432, 8.96002266, 8.95433604, 8.95975384, 8.95452713,\n",
              "       8.95953854, 8.95471902, 8.95934711, 8.95489959, 8.95917205,\n",
              "       8.95506704, 8.95901083, 8.95522177, 8.95886209, 8.95536463,\n",
              "       8.95872482, 8.95549651, 8.95859811, 8.95561824, 8.95848116,\n",
              "       8.9557306 , 8.9583732 , 8.95583432, 8.95827356, 8.95593005])"
            ]
          },
          "metadata": {},
          "execution_count": 421
        }
      ]
    },
    {
      "cell_type": "code",
      "metadata": {
        "colab": {
          "base_uri": "https://localhost:8080/"
        },
        "id": "jQs-U6uZJHzg",
        "outputId": "a189ca6f-7021-483e-864d-6f3f55c3253a"
      },
      "source": [
        "#Intervalo de confiança \n",
        "intervalo_confiaca = forecast.conf_int()\n",
        "limites_inferior = intervalo_confiaca.iloc[:,0]\n",
        "limites_superior = intervalo_confiaca.iloc[:,1]\n",
        "\n",
        "\n",
        "limites_inferior.values, limites_superior.values"
      ],
      "execution_count": 422,
      "outputs": [
        {
          "output_type": "execute_result",
          "data": {
            "text/plain": [
              "(array([8.78444839, 8.71084542, 8.66760225, 8.62163978, 8.59220719,\n",
              "        8.55510572, 8.53127168, 8.49893983, 8.47826773, 8.44916455,\n",
              "        8.43059137, 8.40392579, 8.38686844, 8.3621531 , 8.3462471 ,\n",
              "        8.32314854, 8.30814805, 8.28642292, 8.27215379, 8.25161647,\n",
              "        8.23795104, 8.2184552 , 8.20529737, 8.18672472, 8.17400059,\n",
              "        8.1562535 , 8.14390523, 8.12690177, 8.11488343, 8.09855388]),\n",
              " array([9.14793762, 9.20140863, 9.25575271, 9.2871593 , 9.32873965,\n",
              "        9.35330293, 9.38877364, 9.40973225, 9.44123996, 9.45988972,\n",
              "        9.48848571, 9.50551224, 9.53182579, 9.54764608, 9.572097  ,\n",
              "        9.58698553, 9.60987361, 9.62402062, 9.64557039, 9.6591128 ,\n",
              "        9.67949859, 9.69253782, 9.71189885, 9.72451176, 9.74296172,\n",
              "        9.75520771, 9.77284117, 9.78476687, 9.80166369, 9.81330623]))"
            ]
          },
          "metadata": {},
          "execution_count": 422
        }
      ]
    },
    {
      "cell_type": "code",
      "metadata": {
        "id": "Ibe-yWQdKNR2"
      },
      "source": [
        "datas_forecast = np.asarray(forecast_media.index)\n",
        "datas = np.asarray(df.index)"
      ],
      "execution_count": 423,
      "outputs": []
    },
    {
      "cell_type": "code",
      "metadata": {
        "colab": {
          "base_uri": "https://localhost:8080/",
          "height": 632
        },
        "id": "Rm_dJT_uKWIn",
        "outputId": "3ae5b588-a79c-432a-9b1d-59089f630437"
      },
      "source": [
        "#Gráfico da previsão\n",
        "plt.figure(figsize=(10,10))\n",
        "plt.plot(datas_forecast,forecast_media.values,color='red',label='previsão')\n",
        "plt.fill_between(datas_forecast, limites_inferior, limites_superior, color='red')\n",
        "plt.plot(datas, df.values, label='real')\n",
        "plt.legend()\n",
        "plt.show()"
      ],
      "execution_count": 424,
      "outputs": [
        {
          "output_type": "display_data",
          "data": {
            "image/png": "[encoded data removed]",
            "text/plain": [
              "<Figure size 720x720 with 1 Axes>"
            ]
          },
          "metadata": {}
        }
      ]
    },
    {
      "cell_type": "markdown",
      "metadata": {
        "id": "qOppMQW1uYi4"
      },
      "source": [
        "# Utlizando modelos de Machine learning \n",
        "\n",
        "Para utilizar os modelos de ML será preciso criar as variáveis\n",
        "Será criado a variavel x1 que é a taxa adiantando um dia "
      ]
    },
    {
      "cell_type": "markdown",
      "metadata": {
        "id": "fGzGtclJw35R"
      },
      "source": [
        "# Criando as variaveis necessárias "
      ]
    },
    {
      "cell_type": "code",
      "metadata": {
        "id": "ovGM0rZLuotm"
      },
      "source": [
        "#Criando a variável \n",
        "df[\"x1\"] = df[\"taxa\"].shift(+1)\n"
      ],
      "execution_count": 482,
      "outputs": []
    },
    {
      "cell_type": "code",
      "metadata": {
        "colab": {
          "base_uri": "https://localhost:8080/",
          "height": 234
        },
        "id": "mUmKApizt8Xx",
        "outputId": "3b982289-1a1c-425b-c284-d3010896a1e2"
      },
      "source": [
        "df.head()"
      ],
      "execution_count": 483,
      "outputs": [
        {
          "output_type": "execute_result",
          "data": {
            "text/html": [
              "<div>\n",
              "<style scoped>\n",
              "    .dataframe tbody tr th:only-of-type {\n",
              "        vertical-align: middle;\n",
              "    }\n",
              "\n",
              "    .dataframe tbody tr th {\n",
              "        vertical-align: top;\n",
              "    }\n",
              "\n",
              "    .dataframe thead th {\n",
              "        text-align: right;\n",
              "    }\n",
              "</style>\n",
              "<table border=\"1\" class=\"dataframe\">\n",
              "  <thead>\n",
              "    <tr style=\"text-align: right;\">\n",
              "      <th></th>\n",
              "      <th>taxa</th>\n",
              "      <th>x1</th>\n",
              "    </tr>\n",
              "    <tr>\n",
              "      <th>Data</th>\n",
              "      <th></th>\n",
              "      <th></th>\n",
              "    </tr>\n",
              "  </thead>\n",
              "  <tbody>\n",
              "    <tr>\n",
              "      <th>01/01/2017</th>\n",
              "      <td>11.5018</td>\n",
              "      <td>NaN</td>\n",
              "    </tr>\n",
              "    <tr>\n",
              "      <th>02/01/2017</th>\n",
              "      <td>11.5016</td>\n",
              "      <td>11.5018</td>\n",
              "    </tr>\n",
              "    <tr>\n",
              "      <th>03/01/2017</th>\n",
              "      <td>11.3985</td>\n",
              "      <td>11.5016</td>\n",
              "    </tr>\n",
              "    <tr>\n",
              "      <th>04/01/2017</th>\n",
              "      <td>11.4240</td>\n",
              "      <td>11.3985</td>\n",
              "    </tr>\n",
              "    <tr>\n",
              "      <th>05/01/2017</th>\n",
              "      <td>11.4087</td>\n",
              "      <td>11.4240</td>\n",
              "    </tr>\n",
              "  </tbody>\n",
              "</table>\n",
              "</div>"
            ],
            "text/plain": [
              "               taxa       x1\n",
              "Data                        \n",
              "01/01/2017  11.5018      NaN\n",
              "02/01/2017  11.5016  11.5018\n",
              "03/01/2017  11.3985  11.5016\n",
              "04/01/2017  11.4240  11.3985\n",
              "05/01/2017  11.4087  11.4240"
            ]
          },
          "metadata": {},
          "execution_count": 483
        }
      ]
    },
    {
      "cell_type": "code",
      "metadata": {
        "colab": {
          "base_uri": "https://localhost:8080/"
        },
        "id": "acYAS-fbv_hb",
        "outputId": "112e48f9-be71-47f9-e291-92c1fc6ee81e"
      },
      "source": [
        "#Dropando dados faltantes\n",
        "df.dropna(axis=0, inplace=True)\n",
        "print(df)"
      ],
      "execution_count": 484,
      "outputs": [
        {
          "output_type": "stream",
          "name": "stdout",
          "text": [
            "               taxa       x1\n",
            "Data                        \n",
            "02/01/2017  11.5016  11.5018\n",
            "03/01/2017  11.3985  11.5016\n",
            "04/01/2017  11.4240  11.3985\n",
            "05/01/2017  11.4087  11.4240\n",
            "06/01/2017  11.3985  11.4087\n",
            "...             ...      ...\n",
            "24/09/2021   8.7812   8.7311\n",
            "27/09/2021   8.8486   8.7812\n",
            "28/09/2021   8.9518   8.8486\n",
            "29/09/2021   8.9135   8.9518\n",
            "30/09/2021   8.9648   8.9135\n",
            "\n",
            "[1366 rows x 2 columns]\n"
          ]
        }
      ]
    },
    {
      "cell_type": "code",
      "metadata": {
        "colab": {
          "base_uri": "https://localhost:8080/"
        },
        "id": "-N6aTXkLxoW2",
        "outputId": "a04c585d-bc8a-4da9-b583-c37fd40b8ede"
      },
      "source": [
        "df.info()"
      ],
      "execution_count": 247,
      "outputs": [
        {
          "output_type": "stream",
          "name": "stdout",
          "text": [
            "<class 'pandas.core.frame.DataFrame'>\n",
            "Index: 1365 entries, 03/01/2017 to 30/09/2021\n",
            "Data columns (total 3 columns):\n",
            " #   Column  Non-Null Count  Dtype  \n",
            "---  ------  --------------  -----  \n",
            " 0   taxa    1365 non-null   float64\n",
            " 1   x1      1365 non-null   float64\n",
            " 2   x2      1365 non-null   float64\n",
            "dtypes: float64(3)\n",
            "memory usage: 42.7+ KB\n"
          ]
        }
      ]
    },
    {
      "cell_type": "code",
      "metadata": {
        "id": "BzYLBcmcxmR0"
      },
      "source": [
        "#Separando X\n",
        "X= df[[\"x1\"]]"
      ],
      "execution_count": 304,
      "outputs": []
    },
    {
      "cell_type": "code",
      "metadata": {
        "id": "sBtl55BB0vd6"
      },
      "source": [
        "#Separando Y\n",
        "y= df[\"taxa\"]"
      ],
      "execution_count": 305,
      "outputs": []
    },
    {
      "cell_type": "code",
      "metadata": {
        "id": "V9w6Bu41x6-H"
      },
      "source": [
        "#Separando em treino em teste\n",
        "#como séries temporais o dado anterior tem influência no dado seguinte ao separar em treino e teste tem que tomar o cuidado de embaralhar os dados\n",
        "#o Treino será até um dia e em seguinte começa os dados de teste\n",
        "treino_tamanho = int(len(X) * 2/3)\n",
        "\n",
        "X_train = X[:treino_tamanho]\n",
        "y_train = y[:treino_tamanho]\n",
        "\n",
        "X_test = X[treino_tamanho:]\n",
        "y_test = y[treino_tamanho:]"
      ],
      "execution_count": 306,
      "outputs": []
    },
    {
      "cell_type": "markdown",
      "metadata": {
        "id": "ZRY5n3Q22tdp"
      },
      "source": [
        "# Ajustando o modelo\n",
        "\n",
        "Nessa parte é sérá usado o árvore de decisão, floresta aleátoria, KNN e XGBRegressor.\n",
        "O melhor modelo terá o ajuste de hiperparametros.\n",
        " Na tunagem de hiperparametros como se trata de dados de série em temporal será utilizado TimeSeriesSplit do sklearn, pois esse validor é especificado para série temporal "
      ]
    },
    {
      "cell_type": "code",
      "metadata": {
        "colab": {
          "base_uri": "https://localhost:8080/"
        },
        "id": "o4wj4LX879DY",
        "outputId": "9f1451f4-b27b-41fd-f3c4-9a797d9c43d1"
      },
      "source": [
        "from sklearn.tree import DecisionTreeRegressor\n",
        "\n",
        "model = DecisionTreeRegressor()\n",
        "model.fit(X_train,y_train)\n",
        "\n",
        "pred_tree=model.predict(X_test)\n",
        "\n",
        "def mean_absolute_percentage_error(y_true, y_pred): \n",
        "    y_true, y_pred = np.array(y_true), np.array(y_pred)\n",
        "    return np.mean(np.abs((y_true - y_pred) / y_true)) * 100\n",
        "\n",
        "mape_tree=mean_absolute_percentage_error(y_test,pred_tree)\n",
        "print(mape_tree)\n",
        "\n",
        "\n",
        "mse_tree = sqrt(mean_squared_error(y_test,pred_tree))\n",
        "print(mse_tree)"
      ],
      "execution_count": 318,
      "outputs": [
        {
          "output_type": "stream",
          "name": "stdout",
          "text": [
            "28.98658486199738\n",
            "1.1311945014034972\n"
          ]
        }
      ]
    },
    {
      "cell_type": "code",
      "metadata": {
        "colab": {
          "base_uri": "https://localhost:8080/"
        },
        "id": "snU7iUWVTY9E",
        "outputId": "12f4400b-687b-42bc-9342-6deace32fdbf"
      },
      "source": [
        "from sklearn.ensemble import RandomForestRegressor\n",
        "\n",
        "model = RandomForestRegressor()\n",
        "model.fit(X_train,y_train)\n",
        "\n",
        "pred_random=model.predict(X_test)\n",
        "\n",
        "\n",
        "def mean_absolute_percentage_error(y_true, y_pred): \n",
        "    y_true, y_pred = np.array(y_true), np.array(y_pred)\n",
        "    return np.mean(np.abs((y_true - y_pred) / y_true)) * 100\n",
        "\n",
        "mape_random=mean_absolute_percentage_error(y_test,pred_random)\n",
        "print(mape_random)\n",
        "\n",
        "\n",
        "mse_random = sqrt(mean_squared_error(y_test,pred_random))\n",
        "print(mse_random)"
      ],
      "execution_count": 324,
      "outputs": [
        {
          "output_type": "stream",
          "name": "stdout",
          "text": [
            "27.812815858339224\n",
            "1.0877481600682088\n"
          ]
        }
      ]
    },
    {
      "cell_type": "code",
      "metadata": {
        "colab": {
          "base_uri": "https://localhost:8080/"
        },
        "id": "RsPVy14dWkfA",
        "outputId": "0c3788bc-3aeb-4c49-81c8-ab55b3a50b65"
      },
      "source": [
        "from sklearn.neighbors import KNeighborsRegressor\n",
        "\n",
        "model = KNeighborsRegressor()\n",
        "model.fit(X_train,y_train)\n",
        "\n",
        "pred_knn=model.predict(X_test)\n",
        "\n",
        "\n",
        "def mean_absolute_percentage_error(y_true, y_pred): \n",
        "    y_true, y_pred = np.array(y_true), np.array(y_pred)\n",
        "    return np.mean(np.abs((y_true - y_pred) / y_true)) * 100\n",
        "\n",
        "mape_knn=mean_absolute_percentage_error(y_test,pred_knn)\n",
        "print(mape_knn)\n",
        "\n",
        "\n",
        "mse_knn = sqrt(mean_squared_error(y_test,pred_knn))\n",
        "print(mse_knn)"
      ],
      "execution_count": 321,
      "outputs": [
        {
          "output_type": "stream",
          "name": "stdout",
          "text": [
            "27.82436600659724\n",
            "1.089114823289248\n"
          ]
        }
      ]
    },
    {
      "cell_type": "code",
      "metadata": {
        "colab": {
          "base_uri": "https://localhost:8080/"
        },
        "id": "1I66sFVFXmz5",
        "outputId": "9e148964-9984-42b7-d859-b768e6c55287"
      },
      "source": [
        "from xgboost import XGBRegressor\n",
        "\n",
        "model =  XGBRegressor()\n",
        "model.fit(X_train,y_train)\n",
        "\n",
        "pred_xgb=model.predict(X_test)\n",
        "\n",
        "\n",
        "def mean_absolute_percentage_error(y_true, y_pred): \n",
        "    y_true, y_pred = np.array(y_true), np.array(y_pred)\n",
        "    return np.mean(np.abs((y_true - y_pred) / y_true)) * 100\n",
        "\n",
        "mape_xgb=mean_absolute_percentage_error(y_test,pred_xgb)\n",
        "print(mape_xgb)\n",
        "\n",
        "\n",
        "mse_xgb = sqrt(mean_squared_error(y_test,pred_xgb))\n",
        "print(mse_xgb)"
      ],
      "execution_count": 322,
      "outputs": [
        {
          "output_type": "stream",
          "name": "stdout",
          "text": [
            "[21:32:52] WARNING: /workspace/src/objective/regression_obj.cu:152: reg:linear is now deprecated in favor of reg:squarederror.\n",
            "28.14976465610882\n",
            "1.100957548167958\n"
          ]
        }
      ]
    },
    {
      "cell_type": "code",
      "metadata": {
        "colab": {
          "base_uri": "https://localhost:8080/"
        },
        "id": "vpKkQ4LT2zDZ",
        "outputId": "d2b1567b-f665-4b85-da0e-7507e257c834"
      },
      "source": [
        "#o Melhor modelo foi o de Floresta aleatória e terá hiperparametros tunados\n",
        "from sklearn.ensemble import RandomForestRegressor\n",
        "from sklearn.model_selection import TimeSeriesSplit, RandomizedSearchCV\n",
        "ts = TimeSeriesSplit(n_splits=10)\n",
        "\n",
        "model = RandomForestRegressor()\n",
        "\n",
        "parametros = {'max_depth' : np.arange(0,100,1),\n",
        "                 'n_estimators':np.arange(0,100,1),\n",
        "                 }\n",
        "\n",
        "random = RandomizedSearchCV(model, param_distributions = parametros, scoring = 'neg_mean_squared_error', cv = ts, n_iter = 50, verbose = 1, n_jobs = -1\n",
        "                               )\n",
        "\n",
        "random.fit(X_train,y_train)"
      ],
      "execution_count": 333,
      "outputs": [
        {
          "output_type": "stream",
          "name": "stdout",
          "text": [
            "Fitting 10 folds for each of 50 candidates, totalling 500 fits\n"
          ]
        },
        {
          "output_type": "stream",
          "name": "stderr",
          "text": [
            "[Parallel(n_jobs=-1)]: Using backend LokyBackend with 2 concurrent workers.\n",
            "[Parallel(n_jobs=-1)]: Done  88 tasks      | elapsed:    6.3s\n",
            "[Parallel(n_jobs=-1)]: Done 448 tasks      | elapsed:   27.7s\n",
            "[Parallel(n_jobs=-1)]: Done 500 out of 500 | elapsed:   31.5s finished\n"
          ]
        },
        {
          "output_type": "execute_result",
          "data": {
            "text/plain": [
              "RandomizedSearchCV(cv=TimeSeriesSplit(max_train_size=None, n_splits=10),\n",
              "                   error_score=nan,\n",
              "                   estimator=RandomForestRegressor(bootstrap=True,\n",
              "                                                   ccp_alpha=0.0,\n",
              "                                                   criterion='mse',\n",
              "                                                   max_depth=None,\n",
              "                                                   max_features='auto',\n",
              "                                                   max_leaf_nodes=None,\n",
              "                                                   max_samples=None,\n",
              "                                                   min_impurity_decrease=0.0,\n",
              "                                                   min_impurity_split=None,\n",
              "                                                   min_samples_leaf=1,\n",
              "                                                   min_samples_split=2,\n",
              "                                                   min_weight_fraction_leaf=...\n",
              "       17, 18, 19, 20, 21, 22, 23, 24, 25, 26, 27, 28, 29, 30, 31, 32, 33,\n",
              "       34, 35, 36, 37, 38, 39, 40, 41, 42, 43, 44, 45, 46, 47, 48, 49, 50,\n",
              "       51, 52, 53, 54, 55, 56, 57, 58, 59, 60, 61, 62, 63, 64, 65, 66, 67,\n",
              "       68, 69, 70, 71, 72, 73, 74, 75, 76, 77, 78, 79, 80, 81, 82, 83, 84,\n",
              "       85, 86, 87, 88, 89, 90, 91, 92, 93, 94, 95, 96, 97, 98, 99])},\n",
              "                   pre_dispatch='2*n_jobs', random_state=None, refit=True,\n",
              "                   return_train_score=False, scoring='neg_mean_squared_error',\n",
              "                   verbose=1)"
            ]
          },
          "metadata": {},
          "execution_count": 333
        }
      ]
    },
    {
      "cell_type": "code",
      "metadata": {
        "colab": {
          "base_uri": "https://localhost:8080/"
        },
        "id": "Nr2BsyA0ZFxG",
        "outputId": "8daa41a3-f2e0-4de0-ebf2-5e173122987a"
      },
      "source": [
        "pred_random_hiper=random.predict(X_test)\n",
        "\n",
        "\n",
        "def mean_absolute_percentage_error(y_true, y_pred): \n",
        "    y_true, y_pred = np.array(y_true), np.array(y_pred)\n",
        "    return np.mean(np.abs((y_true - y_pred) / y_true)) * 100\n",
        "\n",
        "mape_random_hiper=mean_absolute_percentage_error(y_test,pred_random_hiper)\n",
        "print(mape_random_hiper)\n",
        "\n",
        "\n",
        "mse_random_hiper = sqrt(mean_squared_error(y_test,pred_random_hiper))\n",
        "print(mse_random_hiper)"
      ],
      "execution_count": 334,
      "outputs": [
        {
          "output_type": "stream",
          "name": "stdout",
          "text": [
            "28.083535522863713\n",
            "1.097612499586262\n"
          ]
        }
      ]
    },
    {
      "cell_type": "markdown",
      "metadata": {
        "id": "XNfnRsxQwUBh"
      },
      "source": [
        "O melhor modelo de ML encontrado com os dados e técnicas empregadas foi o Floresta aleatória padrão, Ficou com Mape de 27.81 e MSE de 1.087.\n",
        "\n",
        "O Arima é o modelo clássfico de previsão de série temporal mas modelos de ML podem ser usados se criados váriaveis, a vantagem dos modelos de ML é que pode se acrescentar quantas váriavies se julgar necessário. É necessário testar para cada conjunto de dados \n",
        "\n"
      ]
    }
  ]
}